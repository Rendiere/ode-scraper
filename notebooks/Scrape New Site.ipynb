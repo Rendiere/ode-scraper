{
 "cells": [
  {
   "cell_type": "code",
   "execution_count": 1,
   "metadata": {},
   "outputs": [],
   "source": [
    "import requests\n",
    "import re\n",
    "from bs4 import BeautifulSoup\n",
    "\n",
    "URL = 'https://www.onedayonly.co.za'\n",
    "headers = {\n",
    "    'User-agent': 'Mozilla/5.0 (Macintosh; Intel Mac OS X 10_15_4) AppleWebKit/537.36 (KHTML, like Gecko) Chrome/83.0.4103.61 Safari/537.36'\n",
    "}\n",
    "page = requests.get(URL, headers=headers)\n",
    "\n",
    "soup = BeautifulSoup(page.content, 'html.parser')"
   ]
  },
  {
   "cell_type": "markdown",
   "metadata": {},
   "source": [
    "**Breakdown**\n",
    "\n",
    "* a-tag, class='gallery-item'\n",
    "    - div (Parent)\n",
    "        - div, class='image' --> **Product Image**\n",
    "    - div, class='css-*-GalleryProduct\n",
    "        - h2, color=black --> **Brand**\n",
    "        - h2, color=darkGrey --> **Product Name**\n",
    "    - div (Parent)\n",
    "        - h2, color=black --> **Price**\n",
    "        - h2, color=darkGrey --> **Retail Price**\n"
   ]
  },
  {
   "cell_type": "code",
   "execution_count": 2,
   "metadata": {},
   "outputs": [],
   "source": [
    "products = soup.find_all('a', class_='gallery-item')"
   ]
  },
  {
   "cell_type": "markdown",
   "metadata": {},
   "source": [
    "### Extract Product Detail\n",
    "\n",
    "* Brand\n",
    "* Title"
   ]
  },
  {
   "cell_type": "code",
   "execution_count": 3,
   "metadata": {},
   "outputs": [],
   "source": [
    "import re\n",
    "\n",
    "def extract_product_detail(product_tag):\n",
    "\n",
    "    product_divs = product_tag.find_all('div', {'class': 'css-13ylwge-GalleryProduct'})\n",
    "    \n",
    "    brand, title = None, None\n",
    "    for div in product_divs:\n",
    "        h2_tags = div.select('div h2')\n",
    "        if h2_tags:\n",
    "            assert len(h2_tags) == 2, 'Found more than 2 h2 tags'\n",
    "            brand = h2_tags[0].get_text()\n",
    "            title = h2_tags[1].get_text()\n",
    "            \n",
    "    return brand, title"
   ]
  },
  {
   "cell_type": "code",
   "execution_count": 16,
   "metadata": {},
   "outputs": [
    {
     "data": {
      "text/plain": [
       "30"
      ]
     },
     "execution_count": 16,
     "metadata": {},
     "output_type": "execute_result"
    }
   ],
   "source": [
    "import numpy as np\n",
    "# idx = np.random.randint(len(products))\n",
    "idx = 30\n",
    "idx"
   ]
  },
  {
   "cell_type": "code",
   "execution_count": 17,
   "metadata": {},
   "outputs": [
    {
     "data": {
      "text/plain": [
       "('Guard', 'Reusable Face Masks')"
      ]
     },
     "execution_count": 17,
     "metadata": {},
     "output_type": "execute_result"
    }
   ],
   "source": [
    "brand, title = extract_product_detail(products[idx])\n",
    "brand, title"
   ]
  },
  {
   "cell_type": "code",
   "execution_count": 26,
   "metadata": {},
   "outputs": [
    {
     "data": {
      "text/plain": [
       "'/products/pack-of-4-reusable-triple-layer-fabric-face-masks-20201215'"
      ]
     },
     "execution_count": 26,
     "metadata": {},
     "output_type": "execute_result"
    }
   ],
   "source": []
  },
  {
   "cell_type": "code",
   "execution_count": 20,
   "metadata": {},
   "outputs": [],
   "source": [
    "def str_to_float(s)->float:\n",
    "    return float(re.sub('[^0-9.\\-]','',s))\n",
    "\n",
    "def extract_prices(product_tag):\n",
    "    \n",
    "    prices_div = product_tag.find('div', {'class': 'css-zzliqo'})\n",
    "    \n",
    "    if prices_div is None:\n",
    "        print('Could not find prices div')\n",
    "        return None, None\n",
    "    \n",
    "    \n",
    "    try:\n",
    "        retail = (prices_div\n",
    "                  .find('h2', {'color': 'darkGrey', 'class': re.compile('css-.*-GalleryProduct')})\n",
    "                  .get_text())\n",
    "        retail = str_to_float(retail)\n",
    "    except AttributeError:\n",
    "        retail = None\n",
    "    \n",
    "    \n",
    "    try:\n",
    "        selling = (prices_div\n",
    "                  .find('h2', {'color': 'black', 'class': re.compile('css-.*-GalleryProduct')})\n",
    "                  .get_text())\n",
    "        selling = str_to_float(selling)\n",
    "    except AttributeError:\n",
    "        selling = None\n",
    "    \n",
    "    \n",
    "    return retail, selling"
   ]
  },
  {
   "cell_type": "code",
   "execution_count": 21,
   "metadata": {},
   "outputs": [
    {
     "data": {
      "text/plain": [
       "(None, 109.0)"
      ]
     },
     "execution_count": 21,
     "metadata": {},
     "output_type": "execute_result"
    }
   ],
   "source": [
    "retail, selling = extract_prices(products[idx])\n",
    "retail, selling"
   ]
  },
  {
   "cell_type": "markdown",
   "metadata": {},
   "source": [
    "## Combine and run for all"
   ]
  },
  {
   "cell_type": "code",
   "execution_count": 27,
   "metadata": {},
   "outputs": [],
   "source": [
    "\n",
    "def extract_product_info(product):\n",
    "    \n",
    "    product_obj = {}\n",
    "    \n",
    "    brand, title = extract_product_detail(product)\n",
    "    \n",
    "    product_obj['brand'] = brand\n",
    "    product_obj['shortname'] = title\n",
    "    \n",
    "    retail, selling = extract_prices(product)\n",
    "    \n",
    "    product_obj['price_retail'] = retail\n",
    "    product_obj['price_selling'] = selling\n",
    "    \n",
    "    product_obj['url'] = 'www.onedayonly.co.za' + product.get('href')\n",
    "    \n",
    "    return product_obj"
   ]
  },
  {
   "cell_type": "code",
   "execution_count": 28,
   "metadata": {},
   "outputs": [
    {
     "name": "stdout",
     "output_type": "stream",
     "text": [
      "0\n",
      "1\n",
      "2\n",
      "3\n",
      "4\n",
      "5\n",
      "6\n",
      "7\n",
      "8\n",
      "9\n",
      "10\n",
      "11\n",
      "12\n",
      "13\n",
      "14\n",
      "15\n",
      "16\n",
      "17\n",
      "18\n",
      "19\n",
      "20\n",
      "21\n",
      "22\n",
      "23\n",
      "24\n",
      "25\n",
      "26\n",
      "27\n",
      "28\n",
      "29\n",
      "30\n",
      "31\n",
      "32\n",
      "33\n",
      "34\n",
      "35\n",
      "36\n",
      "37\n",
      "38\n",
      "39\n",
      "40\n",
      "41\n",
      "42\n",
      "43\n",
      "44\n",
      "45\n",
      "46\n",
      "47\n",
      "48\n",
      "49\n",
      "50\n",
      "51\n",
      "52\n",
      "53\n",
      "54\n",
      "55\n",
      "56\n",
      "57\n",
      "58\n",
      "59\n",
      "60\n",
      "61\n",
      "62\n",
      "63\n",
      "64\n",
      "65\n",
      "66\n",
      "67\n",
      "68\n",
      "69\n",
      "70\n",
      "71\n",
      "72\n",
      "73\n",
      "74\n",
      "75\n",
      "76\n",
      "77\n",
      "78\n",
      "79\n",
      "80\n",
      "81\n"
     ]
    }
   ],
   "source": [
    "product_info = {'data': []}\n",
    "for i, product in enumerate(products):\n",
    "    print(i)\n",
    "    if not product or ('onenightonly' in product.get('href')):\n",
    "        continue\n",
    "    product_info['data'].append(extract_product_info(product))"
   ]
  },
  {
   "cell_type": "code",
   "execution_count": 51,
   "metadata": {},
   "outputs": [
    {
     "data": {
      "text/html": [
       "<div>\n",
       "<style scoped>\n",
       "    .dataframe tbody tr th:only-of-type {\n",
       "        vertical-align: middle;\n",
       "    }\n",
       "\n",
       "    .dataframe tbody tr th {\n",
       "        vertical-align: top;\n",
       "    }\n",
       "\n",
       "    .dataframe thead th {\n",
       "        text-align: right;\n",
       "    }\n",
       "</style>\n",
       "<table border=\"1\" class=\"dataframe\">\n",
       "  <thead>\n",
       "    <tr style=\"text-align: right;\">\n",
       "      <th></th>\n",
       "      <th>brand</th>\n",
       "      <th>shortname</th>\n",
       "      <th>price_retail</th>\n",
       "      <th>price_selling</th>\n",
       "      <th>url</th>\n",
       "    </tr>\n",
       "  </thead>\n",
       "  <tbody>\n",
       "    <tr>\n",
       "      <td>0</td>\n",
       "      <td>Bose</td>\n",
       "      <td>QuietComfort 35 Series II Wireless Headphones</td>\n",
       "      <td>10000.0</td>\n",
       "      <td>5499.0</td>\n",
       "      <td>www.onedayonly.co.za/products/bose-quietcomfort-35-series-ii-120919-20201209</td>\n",
       "    </tr>\n",
       "    <tr>\n",
       "      <td>1</td>\n",
       "      <td>Global</td>\n",
       "      <td>14cm SAI Cooks Knife</td>\n",
       "      <td>1550.0</td>\n",
       "      <td>1149.0</td>\n",
       "      <td>www.onedayonly.co.za/products/14cm-sai-cooks-knife-20201215</td>\n",
       "    </tr>\n",
       "    <tr>\n",
       "      <td>2</td>\n",
       "      <td>M&amp;M's</td>\n",
       "      <td>Pack of 24 Candy Bags</td>\n",
       "      <td>670.0</td>\n",
       "      <td>549.0</td>\n",
       "      <td>www.onedayonly.co.za/products/pack-of-24-candy-bags</td>\n",
       "    </tr>\n",
       "    <tr>\n",
       "      <td>3</td>\n",
       "      <td>Soul Beauty</td>\n",
       "      <td>Face Roller &amp; Gua Sha Set</td>\n",
       "      <td>700.0</td>\n",
       "      <td>399.0</td>\n",
       "      <td>www.onedayonly.co.za/products/roll-play-100-crystal-face-roller-and-gua-sha-set-20201210</td>\n",
       "    </tr>\n",
       "    <tr>\n",
       "      <td>4</td>\n",
       "      <td>O'Neill</td>\n",
       "      <td>Salt Water Solid Bikini Set</td>\n",
       "      <td>700.0</td>\n",
       "      <td>349.0</td>\n",
       "      <td>www.onedayonly.co.za/products/salt-water-solid-bikini-set-3-20201215</td>\n",
       "    </tr>\n",
       "  </tbody>\n",
       "</table>\n",
       "</div>"
      ],
      "text/plain": [
       "         brand                                      shortname  price_retail  \\\n",
       "0         Bose  QuietComfort 35 Series II Wireless Headphones       10000.0   \n",
       "1       Global                           14cm SAI Cooks Knife        1550.0   \n",
       "2        M&M's                          Pack of 24 Candy Bags         670.0   \n",
       "3  Soul Beauty                      Face Roller & Gua Sha Set         700.0   \n",
       "4      O'Neill                    Salt Water Solid Bikini Set         700.0   \n",
       "\n",
       "   price_selling  \\\n",
       "0         5499.0   \n",
       "1         1149.0   \n",
       "2          549.0   \n",
       "3          399.0   \n",
       "4          349.0   \n",
       "\n",
       "                                                                                        url  \n",
       "0              www.onedayonly.co.za/products/bose-quietcomfort-35-series-ii-120919-20201209  \n",
       "1                               www.onedayonly.co.za/products/14cm-sai-cooks-knife-20201215  \n",
       "2                                       www.onedayonly.co.za/products/pack-of-24-candy-bags  \n",
       "3  www.onedayonly.co.za/products/roll-play-100-crystal-face-roller-and-gua-sha-set-20201210  \n",
       "4                      www.onedayonly.co.za/products/salt-water-solid-bikini-set-3-20201215  "
      ]
     },
     "execution_count": 51,
     "metadata": {},
     "output_type": "execute_result"
    }
   ],
   "source": [
    "import pandas as pd\n",
    "\n",
    "pd.set_option('display.max_colwidth', 1000)\n",
    "\n",
    "df = pd.DataFrame(product_info['data'])\n",
    "df.head()"
   ]
  },
  {
   "cell_type": "code",
   "execution_count": 52,
   "metadata": {},
   "outputs": [
    {
     "data": {
      "text/html": [
       "<div>\n",
       "<style scoped>\n",
       "    .dataframe tbody tr th:only-of-type {\n",
       "        vertical-align: middle;\n",
       "    }\n",
       "\n",
       "    .dataframe tbody tr th {\n",
       "        vertical-align: top;\n",
       "    }\n",
       "\n",
       "    .dataframe thead th {\n",
       "        text-align: right;\n",
       "    }\n",
       "</style>\n",
       "<table border=\"1\" class=\"dataframe\">\n",
       "  <thead>\n",
       "    <tr style=\"text-align: right;\">\n",
       "      <th></th>\n",
       "      <th>brand</th>\n",
       "      <th>shortname</th>\n",
       "      <th>price_retail</th>\n",
       "      <th>price_selling</th>\n",
       "      <th>url</th>\n",
       "    </tr>\n",
       "  </thead>\n",
       "  <tbody>\n",
       "    <tr>\n",
       "      <td>0</td>\n",
       "      <td>Bose</td>\n",
       "      <td>QuietComfort 35 Series II Wireless Headphones</td>\n",
       "      <td>10000.0</td>\n",
       "      <td>5499.0</td>\n",
       "      <td>www.onedayonly.co.za/products/bose-quietcomfort-35-series-ii-120919-20201209</td>\n",
       "    </tr>\n",
       "    <tr>\n",
       "      <td>1</td>\n",
       "      <td>Global</td>\n",
       "      <td>14cm SAI Cooks Knife</td>\n",
       "      <td>1550.0</td>\n",
       "      <td>1149.0</td>\n",
       "      <td>www.onedayonly.co.za/products/14cm-sai-cooks-knife-20201215</td>\n",
       "    </tr>\n",
       "    <tr>\n",
       "      <td>2</td>\n",
       "      <td>M&amp;M's</td>\n",
       "      <td>Pack of 24 Candy Bags</td>\n",
       "      <td>670.0</td>\n",
       "      <td>549.0</td>\n",
       "      <td>www.onedayonly.co.za/products/pack-of-24-candy-bags</td>\n",
       "    </tr>\n",
       "    <tr>\n",
       "      <td>3</td>\n",
       "      <td>Soul Beauty</td>\n",
       "      <td>Face Roller &amp; Gua Sha Set</td>\n",
       "      <td>700.0</td>\n",
       "      <td>399.0</td>\n",
       "      <td>www.onedayonly.co.za/products/roll-play-100-crystal-face-roller-and-gua-sha-set-20201210</td>\n",
       "    </tr>\n",
       "    <tr>\n",
       "      <td>4</td>\n",
       "      <td>O'Neill</td>\n",
       "      <td>Salt Water Solid Bikini Set</td>\n",
       "      <td>700.0</td>\n",
       "      <td>349.0</td>\n",
       "      <td>www.onedayonly.co.za/products/salt-water-solid-bikini-set-3-20201215</td>\n",
       "    </tr>\n",
       "    <tr>\n",
       "      <td>...</td>\n",
       "      <td>...</td>\n",
       "      <td>...</td>\n",
       "      <td>...</td>\n",
       "      <td>...</td>\n",
       "      <td>...</td>\n",
       "    </tr>\n",
       "    <tr>\n",
       "      <td>76</td>\n",
       "      <td>Air Scents</td>\n",
       "      <td>Pack of 3 Reed Diffusers</td>\n",
       "      <td>300.0</td>\n",
       "      <td>249.0</td>\n",
       "      <td>www.onedayonly.co.za/products/pack-of-3-100ml-brown-reed-diffuser-with-rattan-sticks-20201215</td>\n",
       "    </tr>\n",
       "    <tr>\n",
       "      <td>77</td>\n",
       "      <td>Fine Living</td>\n",
       "      <td>White Laptop Desk Stand</td>\n",
       "      <td>500.0</td>\n",
       "      <td>299.0</td>\n",
       "      <td>www.onedayonly.co.za/products/white-laptop-desk-stand-502764</td>\n",
       "    </tr>\n",
       "    <tr>\n",
       "      <td>78</td>\n",
       "      <td>Solar</td>\n",
       "      <td>Dual USB Power Bank</td>\n",
       "      <td>300.0</td>\n",
       "      <td>199.0</td>\n",
       "      <td>www.onedayonly.co.za/products/dual-usb-outdoor-power-bank-multiple-colours-available-16092019-20201215</td>\n",
       "    </tr>\n",
       "    <tr>\n",
       "      <td>79</td>\n",
       "      <td>Remedy Health</td>\n",
       "      <td>Earwax Removal Swab's</td>\n",
       "      <td>200.0</td>\n",
       "      <td>129.0</td>\n",
       "      <td>www.onedayonly.co.za/products/earwax-removal-swab-with-16-replacement-heads-502674</td>\n",
       "    </tr>\n",
       "    <tr>\n",
       "      <td>80</td>\n",
       "      <td>Fine Living</td>\n",
       "      <td>10 Tier Stackable Shoe Rack</td>\n",
       "      <td>400.0</td>\n",
       "      <td>289.0</td>\n",
       "      <td>www.onedayonly.co.za/products/10-tier-stackable-shoe-rack-502778</td>\n",
       "    </tr>\n",
       "  </tbody>\n",
       "</table>\n",
       "<p>81 rows × 5 columns</p>\n",
       "</div>"
      ],
      "text/plain": [
       "            brand                                      shortname  \\\n",
       "0            Bose  QuietComfort 35 Series II Wireless Headphones   \n",
       "1          Global                           14cm SAI Cooks Knife   \n",
       "2           M&M's                          Pack of 24 Candy Bags   \n",
       "3     Soul Beauty                      Face Roller & Gua Sha Set   \n",
       "4         O'Neill                    Salt Water Solid Bikini Set   \n",
       "..            ...                                            ...   \n",
       "76     Air Scents                       Pack of 3 Reed Diffusers   \n",
       "77    Fine Living                        White Laptop Desk Stand   \n",
       "78          Solar                            Dual USB Power Bank   \n",
       "79  Remedy Health                          Earwax Removal Swab's   \n",
       "80    Fine Living                    10 Tier Stackable Shoe Rack   \n",
       "\n",
       "    price_retail  price_selling  \\\n",
       "0        10000.0         5499.0   \n",
       "1         1550.0         1149.0   \n",
       "2          670.0          549.0   \n",
       "3          700.0          399.0   \n",
       "4          700.0          349.0   \n",
       "..           ...            ...   \n",
       "76         300.0          249.0   \n",
       "77         500.0          299.0   \n",
       "78         300.0          199.0   \n",
       "79         200.0          129.0   \n",
       "80         400.0          289.0   \n",
       "\n",
       "                                                                                                       url  \n",
       "0                             www.onedayonly.co.za/products/bose-quietcomfort-35-series-ii-120919-20201209  \n",
       "1                                              www.onedayonly.co.za/products/14cm-sai-cooks-knife-20201215  \n",
       "2                                                      www.onedayonly.co.za/products/pack-of-24-candy-bags  \n",
       "3                 www.onedayonly.co.za/products/roll-play-100-crystal-face-roller-and-gua-sha-set-20201210  \n",
       "4                                     www.onedayonly.co.za/products/salt-water-solid-bikini-set-3-20201215  \n",
       "..                                                                                                     ...  \n",
       "76           www.onedayonly.co.za/products/pack-of-3-100ml-brown-reed-diffuser-with-rattan-sticks-20201215  \n",
       "77                                            www.onedayonly.co.za/products/white-laptop-desk-stand-502764  \n",
       "78  www.onedayonly.co.za/products/dual-usb-outdoor-power-bank-multiple-colours-available-16092019-20201215  \n",
       "79                      www.onedayonly.co.za/products/earwax-removal-swab-with-16-replacement-heads-502674  \n",
       "80                                        www.onedayonly.co.za/products/10-tier-stackable-shoe-rack-502778  \n",
       "\n",
       "[81 rows x 5 columns]"
      ]
     },
     "execution_count": 52,
     "metadata": {},
     "output_type": "execute_result"
    }
   ],
   "source": [
    "df"
   ]
  },
  {
   "cell_type": "code",
   "execution_count": null,
   "metadata": {},
   "outputs": [],
   "source": [
    "df.sort_values(by='price_retail')"
   ]
  },
  {
   "cell_type": "code",
   "execution_count": null,
   "metadata": {},
   "outputs": [],
   "source": [
    "products[38]"
   ]
  },
  {
   "cell_type": "code",
   "execution_count": null,
   "metadata": {},
   "outputs": [],
   "source": [
    "from datetime import datetime\n",
    "\n",
    "now = datetime.now()\n",
    "\n",
    "now.date()"
   ]
  },
  {
   "cell_type": "code",
   "execution_count": null,
   "metadata": {},
   "outputs": [],
   "source": [
    "f = '../data/{}.csv'.format(str(now.date()))\n",
    "print(f)\n",
    "df.to_csv(f)"
   ]
  },
  {
   "cell_type": "code",
   "execution_count": null,
   "metadata": {},
   "outputs": [],
   "source": []
  }
 ],
 "metadata": {
  "kernelspec": {
   "display_name": "Python 3",
   "language": "python",
   "name": "python3"
  },
  "language_info": {
   "codemirror_mode": {
    "name": "ipython",
    "version": 3
   },
   "file_extension": ".py",
   "mimetype": "text/x-python",
   "name": "python",
   "nbconvert_exporter": "python",
   "pygments_lexer": "ipython3",
   "version": "3.7.4"
  }
 },
 "nbformat": 4,
 "nbformat_minor": 4
}
