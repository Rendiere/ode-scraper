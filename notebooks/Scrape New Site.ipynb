{
 "cells": [
  {
   "cell_type": "code",
   "execution_count": 2,
   "metadata": {},
   "outputs": [],
   "source": [
    "import requests\n",
    "import re\n",
    "from bs4 import BeautifulSoup\n",
    "\n",
    "URL = 'https://www.onedayonly.co.za'\n",
    "headers = {\n",
    "    'User-agent': 'Mozilla/5.0 (Macintosh; Intel Mac OS X 10_15_4) AppleWebKit/537.36 (KHTML, like Gecko) Chrome/83.0.4103.61 Safari/537.36'\n",
    "}\n",
    "page = requests.get(URL, headers=headers)\n",
    "\n",
    "soup = BeautifulSoup(page.content, 'html.parser')"
   ]
  },
  {
   "cell_type": "markdown",
   "metadata": {},
   "source": [
    "**Breakdown**\n",
    "\n",
    "* a-tag, class='gallery-item'\n",
    "    - div (Parent)\n",
    "        - div, class='image' --> **Product Image**\n",
    "    - div, class='css-*-GalleryProduct\n",
    "        - h2, color=black --> **Brand**\n",
    "        - h2, color=darkGrey --> **Product Name**\n",
    "    - div (Parent)\n",
    "        - h2, color=black --> **Price**\n",
    "        - h2, color=darkGrey --> **Retail Price**\n"
   ]
  },
  {
   "cell_type": "code",
   "execution_count": 3,
   "metadata": {},
   "outputs": [],
   "source": [
    "products = soup.find_all('a', class_='gallery-item')"
   ]
  },
  {
   "cell_type": "markdown",
   "metadata": {},
   "source": [
    "### Extract Product Detail\n",
    "\n",
    "* Brand\n",
    "* Title"
   ]
  },
  {
   "cell_type": "code",
   "execution_count": 23,
   "metadata": {},
   "outputs": [],
   "source": [
    "import re\n",
    "\n",
    "def extract_product_detail(product_tag):\n",
    "\n",
    "    product_divs = product_tag.find_all('div', {'class': re.compile('css-.*-GalleryProduct')})\n",
    "    \n",
    "    brand, title = None, None\n",
    "    for div in product_divs:\n",
    "        h2_tags = div.select('div h2')\n",
    "        if h2_tags:\n",
    "            assert len(h2_tags) == 2, 'Found more than 2 h2 tags'\n",
    "            brand = h2_tags[0].get_text()\n",
    "            title = h2_tags[1].get_text()\n",
    "            \n",
    "    return brand, title"
   ]
  },
  {
   "cell_type": "code",
   "execution_count": 28,
   "metadata": {},
   "outputs": [
    {
     "data": {
      "text/plain": [
       "33"
      ]
     },
     "execution_count": 28,
     "metadata": {},
     "output_type": "execute_result"
    }
   ],
   "source": [
    "import numpy as np\n",
    "idx = np.random.randint(len(products))\n",
    "idx"
   ]
  },
  {
   "cell_type": "code",
   "execution_count": 29,
   "metadata": {},
   "outputs": [
    {
     "data": {
      "text/plain": [
       "('Phoenix', 'Outdoor Sleeping Bag')"
      ]
     },
     "execution_count": 29,
     "metadata": {},
     "output_type": "execute_result"
    }
   ],
   "source": [
    "brand, title = extract_product_detail(products[idx])\n",
    "brand, title"
   ]
  },
  {
   "cell_type": "code",
   "execution_count": 41,
   "metadata": {},
   "outputs": [],
   "source": [
    "def str_to_float(s)->float:\n",
    "    return float(re.sub('[^0-9.\\-]','',s))\n",
    "\n",
    "def extract_prices(product_tag):\n",
    "    \n",
    "    prices_div = product_tag.find('div', {'class': 'css-zzliqo'})\n",
    "    \n",
    "    if not prices_div:\n",
    "        print('Could not find prices div')\n",
    "        return None, None\n",
    "    \n",
    "        \n",
    "    retail = (prices_div\n",
    "              .find('h2', {'color': 'darkGrey', 'class': re.compile('css-.*-GalleryProduct')})\n",
    "              .get_text())\n",
    "    \n",
    "    selling = (prices_div\n",
    "              .find('h2', {'color': 'black', 'class': re.compile('css-.*-GalleryProduct')})\n",
    "              .get_text())\n",
    "    \n",
    "    retail = str_to_float(retail)\n",
    "    selling = str_to_float(selling)\n",
    "    \n",
    "    return retail, selling"
   ]
  },
  {
   "cell_type": "code",
   "execution_count": 42,
   "metadata": {},
   "outputs": [
    {
     "data": {
      "text/plain": [
       "(400.0, 299.0)"
      ]
     },
     "execution_count": 42,
     "metadata": {},
     "output_type": "execute_result"
    }
   ],
   "source": [
    "retail, selling = extract_prices(products[idx])\n",
    "retail, selling"
   ]
  },
  {
   "cell_type": "markdown",
   "metadata": {},
   "source": [
    "## Combine and run for all"
   ]
  },
  {
   "cell_type": "code",
   "execution_count": 45,
   "metadata": {},
   "outputs": [],
   "source": [
    "\n",
    "def extract_product_info(product):\n",
    "    \n",
    "    product_obj = {}\n",
    "    \n",
    "    brand, title = extract_product_detail(product)\n",
    "    \n",
    "    product_obj['brand'] = brand\n",
    "    product_obj['shortname'] = title\n",
    "    \n",
    "    retail, selling = extract_prices(product)\n",
    "    \n",
    "    product_obj['price_retail'] = retail\n",
    "    product_obj['price_selling'] = selling\n",
    "    \n",
    "    return product_obj"
   ]
  },
  {
   "cell_type": "code",
   "execution_count": 50,
   "metadata": {},
   "outputs": [],
   "source": [
    "product_info = {'data': []}\n",
    "for product in products:\n",
    "    if not product or ('onenightonly' in product.get('href')):\n",
    "        continue\n",
    "    product_info['data'].append(extract_product_info(product))"
   ]
  },
  {
   "cell_type": "code",
   "execution_count": 51,
   "metadata": {},
   "outputs": [
    {
     "data": {
      "text/html": [
       "<div>\n",
       "<style scoped>\n",
       "    .dataframe tbody tr th:only-of-type {\n",
       "        vertical-align: middle;\n",
       "    }\n",
       "\n",
       "    .dataframe tbody tr th {\n",
       "        vertical-align: top;\n",
       "    }\n",
       "\n",
       "    .dataframe thead th {\n",
       "        text-align: right;\n",
       "    }\n",
       "</style>\n",
       "<table border=\"1\" class=\"dataframe\">\n",
       "  <thead>\n",
       "    <tr style=\"text-align: right;\">\n",
       "      <th></th>\n",
       "      <th>brand</th>\n",
       "      <th>shortname</th>\n",
       "      <th>price_retail</th>\n",
       "      <th>price_selling</th>\n",
       "    </tr>\n",
       "  </thead>\n",
       "  <tbody>\n",
       "    <tr>\n",
       "      <td>0</td>\n",
       "      <td>La Germania</td>\n",
       "      <td>Europa 90cm 5-Burner Oven</td>\n",
       "      <td>16200.0</td>\n",
       "      <td>12499.0</td>\n",
       "    </tr>\n",
       "    <tr>\n",
       "      <td>1</td>\n",
       "      <td>Canterbury</td>\n",
       "      <td>Men's Pro Dry Tee</td>\n",
       "      <td>500.0</td>\n",
       "      <td>149.0</td>\n",
       "    </tr>\n",
       "    <tr>\n",
       "      <td>2</td>\n",
       "      <td>The Fox Tan</td>\n",
       "      <td>Candy Oil + Sunbed Accelerator</td>\n",
       "      <td>1020.0</td>\n",
       "      <td>899.0</td>\n",
       "    </tr>\n",
       "    <tr>\n",
       "      <td>3</td>\n",
       "      <td>Picnic Time</td>\n",
       "      <td>Beach Bats &amp; Balls</td>\n",
       "      <td>200.0</td>\n",
       "      <td>139.0</td>\n",
       "    </tr>\n",
       "    <tr>\n",
       "      <td>4</td>\n",
       "      <td>Destiny</td>\n",
       "      <td>Swarovski Birthstone Earrings</td>\n",
       "      <td>250.0</td>\n",
       "      <td>179.0</td>\n",
       "    </tr>\n",
       "  </tbody>\n",
       "</table>\n",
       "</div>"
      ],
      "text/plain": [
       "         brand                       shortname  price_retail  price_selling\n",
       "0  La Germania       Europa 90cm 5-Burner Oven       16200.0        12499.0\n",
       "1   Canterbury               Men's Pro Dry Tee         500.0          149.0\n",
       "2  The Fox Tan  Candy Oil + Sunbed Accelerator        1020.0          899.0\n",
       "3  Picnic Time              Beach Bats & Balls         200.0          139.0\n",
       "4      Destiny   Swarovski Birthstone Earrings         250.0          179.0"
      ]
     },
     "execution_count": 51,
     "metadata": {},
     "output_type": "execute_result"
    }
   ],
   "source": [
    "import pandas as pd\n",
    "\n",
    "df = pd.DataFrame(product_info['data'])\n",
    "df.head()"
   ]
  },
  {
   "cell_type": "code",
   "execution_count": 52,
   "metadata": {},
   "outputs": [
    {
     "data": {
      "text/html": [
       "<div>\n",
       "<style scoped>\n",
       "    .dataframe tbody tr th:only-of-type {\n",
       "        vertical-align: middle;\n",
       "    }\n",
       "\n",
       "    .dataframe tbody tr th {\n",
       "        vertical-align: top;\n",
       "    }\n",
       "\n",
       "    .dataframe thead th {\n",
       "        text-align: right;\n",
       "    }\n",
       "</style>\n",
       "<table border=\"1\" class=\"dataframe\">\n",
       "  <thead>\n",
       "    <tr style=\"text-align: right;\">\n",
       "      <th></th>\n",
       "      <th>brand</th>\n",
       "      <th>shortname</th>\n",
       "      <th>price_retail</th>\n",
       "      <th>price_selling</th>\n",
       "    </tr>\n",
       "  </thead>\n",
       "  <tbody>\n",
       "    <tr>\n",
       "      <td>0</td>\n",
       "      <td>La Germania</td>\n",
       "      <td>Europa 90cm 5-Burner Oven</td>\n",
       "      <td>16200.0</td>\n",
       "      <td>12499.0</td>\n",
       "    </tr>\n",
       "    <tr>\n",
       "      <td>1</td>\n",
       "      <td>Canterbury</td>\n",
       "      <td>Men's Pro Dry Tee</td>\n",
       "      <td>500.0</td>\n",
       "      <td>149.0</td>\n",
       "    </tr>\n",
       "    <tr>\n",
       "      <td>2</td>\n",
       "      <td>The Fox Tan</td>\n",
       "      <td>Candy Oil + Sunbed Accelerator</td>\n",
       "      <td>1020.0</td>\n",
       "      <td>899.0</td>\n",
       "    </tr>\n",
       "    <tr>\n",
       "      <td>3</td>\n",
       "      <td>Picnic Time</td>\n",
       "      <td>Beach Bats &amp; Balls</td>\n",
       "      <td>200.0</td>\n",
       "      <td>139.0</td>\n",
       "    </tr>\n",
       "    <tr>\n",
       "      <td>4</td>\n",
       "      <td>Destiny</td>\n",
       "      <td>Swarovski Birthstone Earrings</td>\n",
       "      <td>250.0</td>\n",
       "      <td>179.0</td>\n",
       "    </tr>\n",
       "    <tr>\n",
       "      <td>...</td>\n",
       "      <td>...</td>\n",
       "      <td>...</td>\n",
       "      <td>...</td>\n",
       "      <td>...</td>\n",
       "    </tr>\n",
       "    <tr>\n",
       "      <td>82</td>\n",
       "      <td>Leonardo</td>\n",
       "      <td>Set of 2 Perla Glasses</td>\n",
       "      <td>670.0</td>\n",
       "      <td>399.0</td>\n",
       "    </tr>\n",
       "    <tr>\n",
       "      <td>83</td>\n",
       "      <td>Leonardo</td>\n",
       "      <td>Serving Platter with Bowls</td>\n",
       "      <td>1050.0</td>\n",
       "      <td>579.0</td>\n",
       "    </tr>\n",
       "    <tr>\n",
       "      <td>84</td>\n",
       "      <td>WDR</td>\n",
       "      <td>1080P Dual Camera Dash Cam</td>\n",
       "      <td>800.0</td>\n",
       "      <td>499.0</td>\n",
       "    </tr>\n",
       "    <tr>\n",
       "      <td>85</td>\n",
       "      <td>Salus</td>\n",
       "      <td>Camera Backpack</td>\n",
       "      <td>600.0</td>\n",
       "      <td>349.0</td>\n",
       "    </tr>\n",
       "    <tr>\n",
       "      <td>86</td>\n",
       "      <td>Fine Living</td>\n",
       "      <td>Relaxing Hammock Armrest Chair</td>\n",
       "      <td>800.0</td>\n",
       "      <td>559.0</td>\n",
       "    </tr>\n",
       "  </tbody>\n",
       "</table>\n",
       "<p>87 rows × 4 columns</p>\n",
       "</div>"
      ],
      "text/plain": [
       "          brand                       shortname  price_retail  price_selling\n",
       "0   La Germania       Europa 90cm 5-Burner Oven       16200.0        12499.0\n",
       "1    Canterbury               Men's Pro Dry Tee         500.0          149.0\n",
       "2   The Fox Tan  Candy Oil + Sunbed Accelerator        1020.0          899.0\n",
       "3   Picnic Time              Beach Bats & Balls         200.0          139.0\n",
       "4       Destiny   Swarovski Birthstone Earrings         250.0          179.0\n",
       "..          ...                             ...           ...            ...\n",
       "82     Leonardo          Set of 2 Perla Glasses         670.0          399.0\n",
       "83     Leonardo     Serving Platter with Bowls         1050.0          579.0\n",
       "84          WDR      1080P Dual Camera Dash Cam         800.0          499.0\n",
       "85        Salus                 Camera Backpack         600.0          349.0\n",
       "86  Fine Living  Relaxing Hammock Armrest Chair         800.0          559.0\n",
       "\n",
       "[87 rows x 4 columns]"
      ]
     },
     "execution_count": 52,
     "metadata": {},
     "output_type": "execute_result"
    }
   ],
   "source": [
    "df"
   ]
  },
  {
   "cell_type": "code",
   "execution_count": 53,
   "metadata": {},
   "outputs": [
    {
     "data": {
      "text/html": [
       "<div>\n",
       "<style scoped>\n",
       "    .dataframe tbody tr th:only-of-type {\n",
       "        vertical-align: middle;\n",
       "    }\n",
       "\n",
       "    .dataframe tbody tr th {\n",
       "        vertical-align: top;\n",
       "    }\n",
       "\n",
       "    .dataframe thead th {\n",
       "        text-align: right;\n",
       "    }\n",
       "</style>\n",
       "<table border=\"1\" class=\"dataframe\">\n",
       "  <thead>\n",
       "    <tr style=\"text-align: right;\">\n",
       "      <th></th>\n",
       "      <th>brand</th>\n",
       "      <th>shortname</th>\n",
       "      <th>price_retail</th>\n",
       "      <th>price_selling</th>\n",
       "    </tr>\n",
       "  </thead>\n",
       "  <tbody>\n",
       "    <tr>\n",
       "      <td>20</td>\n",
       "      <td>Glade</td>\n",
       "      <td>Automatic Spray &amp; Holder</td>\n",
       "      <td>130.0</td>\n",
       "      <td>89.0</td>\n",
       "    </tr>\n",
       "    <tr>\n",
       "      <td>19</td>\n",
       "      <td>Ziploc</td>\n",
       "      <td>4 Piece Storage Bag Bundle</td>\n",
       "      <td>140.0</td>\n",
       "      <td>99.0</td>\n",
       "    </tr>\n",
       "    <tr>\n",
       "      <td>30</td>\n",
       "      <td>Mr Muscle</td>\n",
       "      <td>Kitchen Cleaning Bundle</td>\n",
       "      <td>150.0</td>\n",
       "      <td>109.0</td>\n",
       "    </tr>\n",
       "    <tr>\n",
       "      <td>48</td>\n",
       "      <td>Canterbury</td>\n",
       "      <td>Men's Playing Sock</td>\n",
       "      <td>160.0</td>\n",
       "      <td>99.0</td>\n",
       "    </tr>\n",
       "    <tr>\n",
       "      <td>29</td>\n",
       "      <td>Little Artist</td>\n",
       "      <td>Glitter Paint Set</td>\n",
       "      <td>200.0</td>\n",
       "      <td>129.0</td>\n",
       "    </tr>\n",
       "    <tr>\n",
       "      <td>...</td>\n",
       "      <td>...</td>\n",
       "      <td>...</td>\n",
       "      <td>...</td>\n",
       "      <td>...</td>\n",
       "    </tr>\n",
       "    <tr>\n",
       "      <td>71</td>\n",
       "      <td>Tramontina</td>\n",
       "      <td>13-Piece Braai Set</td>\n",
       "      <td>4800.0</td>\n",
       "      <td>2399.0</td>\n",
       "    </tr>\n",
       "    <tr>\n",
       "      <td>22</td>\n",
       "      <td>Google</td>\n",
       "      <td>Nest Hub Max Speaker</td>\n",
       "      <td>7499.0</td>\n",
       "      <td>5999.0</td>\n",
       "    </tr>\n",
       "    <tr>\n",
       "      <td>56</td>\n",
       "      <td>The Rug Warehouse</td>\n",
       "      <td>Persian Runner</td>\n",
       "      <td>7990.0</td>\n",
       "      <td>2349.0</td>\n",
       "    </tr>\n",
       "    <tr>\n",
       "      <td>23</td>\n",
       "      <td>The Rug Warehouse</td>\n",
       "      <td>Afghan Hand Woven Persian Rug</td>\n",
       "      <td>12000.0</td>\n",
       "      <td>5979.0</td>\n",
       "    </tr>\n",
       "    <tr>\n",
       "      <td>0</td>\n",
       "      <td>La Germania</td>\n",
       "      <td>Europa 90cm 5-Burner Oven</td>\n",
       "      <td>16200.0</td>\n",
       "      <td>12499.0</td>\n",
       "    </tr>\n",
       "  </tbody>\n",
       "</table>\n",
       "<p>87 rows × 4 columns</p>\n",
       "</div>"
      ],
      "text/plain": [
       "                brand                      shortname  price_retail  \\\n",
       "20              Glade       Automatic Spray & Holder         130.0   \n",
       "19             Ziploc     4 Piece Storage Bag Bundle         140.0   \n",
       "30          Mr Muscle        Kitchen Cleaning Bundle         150.0   \n",
       "48         Canterbury             Men's Playing Sock         160.0   \n",
       "29      Little Artist              Glitter Paint Set         200.0   \n",
       "..                ...                            ...           ...   \n",
       "71         Tramontina             13-Piece Braai Set        4800.0   \n",
       "22             Google           Nest Hub Max Speaker        7499.0   \n",
       "56  The Rug Warehouse                 Persian Runner        7990.0   \n",
       "23  The Rug Warehouse  Afghan Hand Woven Persian Rug       12000.0   \n",
       "0         La Germania      Europa 90cm 5-Burner Oven       16200.0   \n",
       "\n",
       "    price_selling  \n",
       "20           89.0  \n",
       "19           99.0  \n",
       "30          109.0  \n",
       "48           99.0  \n",
       "29          129.0  \n",
       "..            ...  \n",
       "71         2399.0  \n",
       "22         5999.0  \n",
       "56         2349.0  \n",
       "23         5979.0  \n",
       "0         12499.0  \n",
       "\n",
       "[87 rows x 4 columns]"
      ]
     },
     "execution_count": 53,
     "metadata": {},
     "output_type": "execute_result"
    }
   ],
   "source": [
    "df.sort_values(by='price_retail')"
   ]
  },
  {
   "cell_type": "code",
   "execution_count": 54,
   "metadata": {},
   "outputs": [
    {
     "data": {
      "text/plain": [
       "<a class=\"gallery-item\" href=\"https://onenightonly.co.za/?utm_source=OneDayOnly&amp;utm_medium=referral&amp;utm_content=promo_block\" rel=\"noopener noreferrer\" target=\"_blank\"><div class=\"css-1857olo-fadeAnimations-ImageContainer\"><div class=\"css-1kkgipb-ImageContainer\"><style data-emotion-css=\"14j2g1s-ImageBlock\">.css-14j2g1s-ImageBlock{display:block;max-width:100%;max-height:100%;min-width:100%;opacity:1;-webkit-transition-duration:512ms;transition-duration:512ms;-webkit-transition-property:opacity,visibility;transition-property:opacity,visibility;-webkit-transition-timing-function:ease-out;transition-timing-function:ease-out;visibility:visible;background-size:cover;background-position:center;background-image:url(https://cdn.onedayonly.co.za/resources/images/media/1378.png?auto=compress&w=800&h=800&bg=fff&fit=fill);}</style><style data-emotion-css=\"1fxmn25-ImageBlock\">.css-1fxmn25-ImageBlock{box-sizing:border-box;-webkit-flex:1;-ms-flex:1;flex:1;display:block;max-width:100%;max-height:100%;min-width:100%;opacity:1;-webkit-transition-duration:512ms;transition-duration:512ms;-webkit-transition-property:opacity,visibility;transition-property:opacity,visibility;-webkit-transition-timing-function:ease-out;transition-timing-function:ease-out;visibility:visible;background-size:cover;background-position:center;background-image:url(https://cdn.onedayonly.co.za/resources/images/media/1378.png?auto=compress&w=800&h=800&bg=fff&fit=fill);}</style><div class=\"image product-image css-1fxmn25-ImageBlock\" role=\"button\" tabindex=\"-1\"></div></div></div></a>"
      ]
     },
     "execution_count": 54,
     "metadata": {},
     "output_type": "execute_result"
    }
   ],
   "source": [
    "products[38]"
   ]
  },
  {
   "cell_type": "code",
   "execution_count": 55,
   "metadata": {},
   "outputs": [
    {
     "data": {
      "text/plain": [
       "datetime.date(2020, 12, 25)"
      ]
     },
     "execution_count": 55,
     "metadata": {},
     "output_type": "execute_result"
    }
   ],
   "source": [
    "from datetime import datetime\n",
    "\n",
    "now = datetime.now()\n",
    "\n",
    "now.date()"
   ]
  },
  {
   "cell_type": "code",
   "execution_count": null,
   "metadata": {},
   "outputs": [],
   "source": [
    "f = '../data/{}.csv'.format(str(now.date()))\n",
    "print(f)\n",
    "df.to_csv(f)"
   ]
  },
  {
   "cell_type": "code",
   "execution_count": null,
   "metadata": {},
   "outputs": [],
   "source": []
  }
 ],
 "metadata": {
  "kernelspec": {
   "display_name": "Python 3",
   "language": "python",
   "name": "python3"
  },
  "language_info": {
   "codemirror_mode": {
    "name": "ipython",
    "version": 3
   },
   "file_extension": ".py",
   "mimetype": "text/x-python",
   "name": "python",
   "nbconvert_exporter": "python",
   "pygments_lexer": "ipython3",
   "version": "3.7.4"
  }
 },
 "nbformat": 4,
 "nbformat_minor": 4
}
